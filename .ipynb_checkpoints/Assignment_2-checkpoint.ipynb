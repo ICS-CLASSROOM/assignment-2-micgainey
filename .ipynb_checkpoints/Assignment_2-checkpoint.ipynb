{
 "cells": [
  {
   "cell_type": "markdown",
   "id": "770e8d9f",
   "metadata": {},
   "source": [
    "### Michael Gainey"
   ]
  },
  {
   "cell_type": "code",
   "execution_count": 1,
   "id": "1443cdff",
   "metadata": {},
   "outputs": [],
   "source": [
    "import re\n"
   ]
  },
  {
   "cell_type": "markdown",
   "id": "9aa8d15e",
   "metadata": {},
   "source": [
    "# Assignment 2: Analyzing large datasets with Spark.\n",
    "\n",
    "\n",
    "For this assignment, you will need to make sure you're running from a PySpark docker environment I introduced in class. You can start the docker pySpark docker environment using the following command:\n",
    "\n",
    "```\n",
    "docker run --rm -p 4040:4040 -p 8888:8888 -v $(pwd):/home/jovyan/work jupyter/all-spark-notebook\n",
    "```\n",
    "\n",
    "Make sure you run the command from the directory containing this jupyter notebook and your data folder.\n",
    "\n",
    "\n",
    "</b>\n",
    "# WARNING: For some reason, ipynbb document didn't always sync properly when I was pushing to github. As such, please push often and make sure your incremental changes appear on GitHub.\n",
    "</b>"
   ]
  },
  {
   "cell_type": "markdown",
   "id": "66b0d3e6",
   "metadata": {},
   "source": [
    "### Part 1\n",
    "\n",
    "The first part will use Spark to analyze the following books, which I have downloaded for you to use from Project Gutenberg. The files are saved to the data folder.\n",
    "\n",
    "| File name | Book Title|\n",
    "|:---------:|:----------|\n",
    "|43.txt | The Strange Case of Dr. Jekyll and Mr. Hyde by Robert Louis Stevenson|\n",
    "|84.txt | Frankenstein; Or, The Modern Prometheus by Mary Wollstonecraft Shelley |\n",
    "|398.txt  | The First Book of Adam and Eve by Rutherford Hayes Platt|\n",
    "|3296.txt | The Confessions of St. Augustine by Bishop of Hippo Saint Augustine|\n",
    "\n",
    "The objective is to explore whether we can detect similarity between books within the same topic using word-based similarity. \n",
    "\n",
    "The task of identifying similar texts in Natural Language Processing is crucial. A naive method for determining whether two documents are similar is to treat them as collections of words (bag of words) and use the number of words they share as a proxy for their similarity. It makes sense that two books with religion as the topic (e.g.  `398.txt` and `3296.txt`) would have more words in common than a book that discusses religion and a book that discusses science fiction (e.g. books `84.txt` and `398.txt`). \n",
    "\n",
    "As mentioned above, we will be using Spark to analyze the data. Although Spark is not needed for such a small example, the platform would be ideal for analyzing very large collections of documents, like those often analyzed by large corporations\n",
    "\n",
    "This part of the assignment will rely exclusively on RDDs."
   ]
  },
  {
   "cell_type": "markdown",
   "id": "87a15530",
   "metadata": {},
   "source": [
    "### Q1. \n",
    "Start by importing Spark and making sure your environment is set up properly for the assignment.\n",
    "\n",
    "Import the spark context necessary to load a document as an RDD; ignore any error messages"
   ]
  },
  {
   "cell_type": "code",
   "execution_count": 2,
   "id": "e80df4d4",
   "metadata": {},
   "outputs": [
    {
     "name": "stderr",
     "output_type": "stream",
     "text": [
      "WARNING: An illegal reflective access operation has occurred\n",
      "WARNING: Illegal reflective access by org.apache.spark.unsafe.Platform (file:/usr/local/spark-3.2.0-bin-hadoop3.2/jars/spark-unsafe_2.12-3.2.0.jar) to constructor java.nio.DirectByteBuffer(long,int)\n",
      "WARNING: Please consider reporting this to the maintainers of org.apache.spark.unsafe.Platform\n",
      "WARNING: Use --illegal-access=warn to enable warnings of further illegal reflective access operations\n",
      "WARNING: All illegal access operations will be denied in a future release\n",
      "Using Spark's default log4j profile: org/apache/spark/log4j-defaults.properties\n",
      "Setting default log level to \"WARN\".\n",
      "To adjust logging level use sc.setLogLevel(newLevel). For SparkR, use setLogLevel(newLevel).\n",
      "21/11/07 15:15:02 WARN NativeCodeLoader: Unable to load native-hadoop library for your platform... using builtin-java classes where applicable\n"
     ]
    }
   ],
   "source": [
    "### Write your code here\n",
    "from pyspark import SparkContext\n",
    "sc = SparkContext()"
   ]
  },
  {
   "cell_type": "code",
   "execution_count": 3,
   "id": "0ca22f19",
   "metadata": {},
   "outputs": [],
   "source": [
    "SparkContext?"
   ]
  },
  {
   "cell_type": "code",
   "execution_count": 4,
   "id": "e1c014e8",
   "metadata": {},
   "outputs": [
    {
     "name": "stdout",
     "output_type": "stream",
     "text": [
      "3.2.0\n",
      "3.9\n",
      "local[*]\n"
     ]
    }
   ],
   "source": [
    "print(sc.version)\n",
    "print(sc.pythonVer)\n",
    "print(sc.master)"
   ]
  },
  {
   "cell_type": "code",
   "execution_count": 5,
   "id": "4535b106",
   "metadata": {},
   "outputs": [
    {
     "data": {
      "text/plain": [
       "[('spark.app.id', 'local-1636298103524'),\n",
       " ('spark.executor.id', 'driver'),\n",
       " ('spark.app.name', 'pyspark-shell'),\n",
       " ('spark.driver.extraJavaOptions',\n",
       "  '-Dio.netty.tryReflectionSetAccessible=true'),\n",
       " ('spark.driver.host', 'ce25afd91cf3'),\n",
       " ('spark.rdd.compress', 'True'),\n",
       " ('spark.serializer.objectStreamReset', '100'),\n",
       " ('spark.master', 'local[*]'),\n",
       " ('spark.submit.pyFiles', ''),\n",
       " ('spark.app.startTime', '1636298102477'),\n",
       " ('spark.submit.deployMode', 'client'),\n",
       " ('spark.executor.extraJavaOptions',\n",
       "  '-Dio.netty.tryReflectionSetAccessible=true'),\n",
       " ('spark.ui.showConsoleProgress', 'true'),\n",
       " ('spark.driver.port', '43129')]"
      ]
     },
     "execution_count": 5,
     "metadata": {},
     "output_type": "execute_result"
    }
   ],
   "source": [
    "sc.getConf().getAll()"
   ]
  },
  {
   "cell_type": "markdown",
   "id": "336d5c9d",
   "metadata": {},
   "source": [
    "### Q2 \n",
    "\n",
    "Read in the file `43.txt` as a spark RDD and save it to a variable called `book_43`\n",
    " * make sure `book_43` is of type MapPartitionsRDD, i.e.,\n",
    "   * str(type(book_43)) == \"<class 'pyspark.rdd.RDD'>\" should return True "
   ]
  },
  {
   "cell_type": "code",
   "execution_count": 6,
   "id": "3d4164f5",
   "metadata": {},
   "outputs": [
    {
     "name": "stdout",
     "output_type": "stream",
     "text": [
      "True\n"
     ]
    }
   ],
   "source": [
    "### Write your code here\n",
    "book_43 = sc.textFile(\"data/43.txt\")\n",
    "print(str(type(book_43)) == \"<class 'pyspark.rdd.RDD'>\")"
   ]
  },
  {
   "cell_type": "markdown",
   "id": "0b8c051e",
   "metadata": {},
   "source": [
    "### Q3\n",
    "\n",
    "How many lines does `book_43` contain?\n",
    "* You can only use operations or actions on RDDs to answer the question. \n",
    "  * Code that uses methods such as `some_rdd.X().Y().Z()...` is allowed\n",
    "  * Code that uses functions such as `some_func(...)` is not allowed"
   ]
  },
  {
   "cell_type": "code",
   "execution_count": 7,
   "id": "b3c5a06e",
   "metadata": {},
   "outputs": [
    {
     "name": "stdout",
     "output_type": "stream",
     "text": [
      "2935\n"
     ]
    },
    {
     "name": "stderr",
     "output_type": "stream",
     "text": [
      "\r",
      "[Stage 0:>                                                          (0 + 2) / 2]\r",
      "\r",
      "                                                                                \r"
     ]
    }
   ],
   "source": [
    "### Write your code here\n",
    "lines = book_43.count()\n",
    "print(lines)"
   ]
  },
  {
   "cell_type": "markdown",
   "id": "bca2bc6d",
   "metadata": {},
   "source": [
    "### Q4 \n",
    "\n",
    "Prior to analyzing the words contained in this book, we need to first remove the occurrences of non-alphabetical characters and numbers from the text. You can use the following function, which takes a line as input, removes digits and non-word characters, and splits it into a collection of words. \n",
    "\n",
    "```python\n",
    "def clean_split_line(line):\n",
    "    a = re.sub('\\d+', '', line)\n",
    "    b = re.sub('[\\W]+', ' ', a)\n",
    "    return b.upper().split()\n",
    "```\n",
    "\n",
    "Use the fucntion above on the variable (test_line) to see what it returns.\n",
    "```python\n",
    "test_line = \"This is an example of that contains 234 and a dash-containing number\"\n",
    "```"
   ]
  },
  {
   "cell_type": "code",
   "execution_count": 8,
   "id": "55ce2754",
   "metadata": {},
   "outputs": [
    {
     "name": "stdout",
     "output_type": "stream",
     "text": [
      "['THIS', 'IS', 'AN', 'EXAMPLE', 'OF', 'THAT', 'CONTAINS', 'AND', 'A', 'DASH', 'CONTAINING', 'NUMBER']\n"
     ]
    }
   ],
   "source": [
    "import re\n",
    "### Write your code here\n",
    "def clean_split_line(line):\n",
    "    a = re.sub('\\d+', '', line)\n",
    "    b = re.sub('[\\W]+', ' ', a)\n",
    "    return b.upper().split()\n",
    "\n",
    "test_line = \"This is an example of that contains 234 and a dash-containing number\"\n",
    "\n",
    "print(clean_split_line(test_line))"
   ]
  },
  {
   "cell_type": "markdown",
   "id": "b5e951e5",
   "metadata": {},
   "source": [
    "### Q5\n",
    "\n",
    "How many words does `book_43` contain? To answer this question, you may find it useful to apply the function in a spark-fashion. \n",
    "* You can only use operations or actions on RDDs to answer the question. \n",
    "  * Code that uses methods such as `some_rdd.X().Y().Z()...` is allowed\n",
    "  * Code that uses functions such as `some_func(...)` is not allowed\n"
   ]
  },
  {
   "cell_type": "code",
   "execution_count": 9,
   "id": "99c1b93f",
   "metadata": {},
   "outputs": [
    {
     "data": {
      "text/plain": [
       "29116"
      ]
     },
     "execution_count": 9,
     "metadata": {},
     "output_type": "execute_result"
    }
   ],
   "source": [
    "### Write your code here\n",
    "amount_of_words = book_43.flatMap(clean_split_line).count()\n",
    "amount_of_words"
   ]
  },
  {
   "cell_type": "markdown",
   "id": "30d62952",
   "metadata": {},
   "source": [
    "### Q6\n",
    "\n",
    "How many of the words in book_43 are unique? Given that words can appear in lower, upper or mixed case (ex. The, THE, the), make sure you convert the words into lower case before counting them.\n"
   ]
  },
  {
   "cell_type": "code",
   "execution_count": 10,
   "id": "07785c77",
   "metadata": {},
   "outputs": [
    {
     "data": {
      "text/plain": [
       "4296"
      ]
     },
     "execution_count": 10,
     "metadata": {},
     "output_type": "execute_result"
    }
   ],
   "source": [
    "### Write your code here\n",
    "def clean_split_line_lower(line):\n",
    "    a = re.sub('\\d+', '', line)\n",
    "    b = re.sub('[\\W]+', ' ', a)\n",
    "    return b.lower().split()\n",
    "\n",
    "unique_word_count = book_43.flatMap(clean_split_line_lower).map(lambda x: (x,1)).reduceByKey(lambda x,y: x+y)\n",
    "unique_word_count.filter(lambda x: x[1] == 1)\n",
    "unique_word_count.count()\n",
    "\n",
    "# idk how to do this one maybe"
   ]
  },
  {
   "cell_type": "markdown",
   "id": "91b13b79",
   "metadata": {},
   "source": [
    "### Q7\n",
    "\n",
    "* Generate an `RDD` that contains the frequency of each word in `book_43`. Call the variable `book_43_counts`. Each item in the `RDD` should be a tuple with the word as the first element of the tuple and the count as the second item of the tuple. The collection should look like the following:\n",
    "\n",
    "[('project', 88), (\"the\", 1807), ... ]\n",
    "\n",
    "* Such a collection may contain a large number of words and it would be imprudent to transfer all the words onto the same machine to display it. Instead, to explore the content of such a collection, display only the first element in your list. \n",
    "\n",
    "* Given the random nature of this operation, the first element element displayed may be different. The first entry for me was:\n",
    "```\n",
    "[('project', 88)]\n",
    "```\n",
    "\n",
    "* You can only use operations or actions to answer the question. \n",
    "* Code that uses methods such as `some_rdd.X().Y().Z()...` is allowed\n",
    "* Code that uses functions such as `some_func(...)` is not allowed\n"
   ]
  },
  {
   "cell_type": "code",
   "execution_count": 11,
   "id": "42729b95",
   "metadata": {},
   "outputs": [
    {
     "data": {
      "text/plain": [
       "[('project', 88)]"
      ]
     },
     "execution_count": 11,
     "metadata": {},
     "output_type": "execute_result"
    }
   ],
   "source": [
    "### Write your code here\n",
    "book_43_counts = book_43.flatMap(clean_split_line_lower).map(lambda x: (x,1)).reduceByKey(lambda x,y: x+y)\n",
    "book_43_counts.take(1)"
   ]
  },
  {
   "cell_type": "markdown",
   "id": "1ee4534c",
   "metadata": {},
   "source": [
    "### Q8\n",
    "\n",
    "Sort `book_43_counts` and print the 20 most frequent words in book_43. \n",
    "  * Hint: function `sortByKey` sorts a collection of tuples on the first element element of the list. You can easily change the order of the items in each element and use `sortByKey` to sort on the second item of each element in `book_43_counts`\n",
    "  * You can only use operations or actions to answer the question. \n",
    "  * Code that uses methods such as `some_rdd.X().Y().Z()...` is allowed\n",
    "  * Code that uses functions such as `some_func(...)` is not allowed"
   ]
  },
  {
   "cell_type": "code",
   "execution_count": 12,
   "id": "d51b8ea9",
   "metadata": {},
   "outputs": [
    {
     "data": {
      "text/plain": [
       "[(1807, 'the'),\n",
       " (1068, 'of'),\n",
       " (1043, 'and'),\n",
       " (726, 'to'),\n",
       " (686, 'a'),\n",
       " (646, 'i'),\n",
       " (485, 'in'),\n",
       " (471, 'was'),\n",
       " (392, 'that'),\n",
       " (384, 'he'),\n",
       " (378, 'it'),\n",
       " (312, 'you'),\n",
       " (308, 'my'),\n",
       " (301, 'with'),\n",
       " (285, 'his'),\n",
       " (244, 'had'),\n",
       " (203, 'as'),\n",
       " (202, 'for'),\n",
       " (195, 'this'),\n",
       " (193, 'but')]"
      ]
     },
     "execution_count": 12,
     "metadata": {},
     "output_type": "execute_result"
    }
   ],
   "source": [
    "### Write your code here\n",
    "book_43_counts = book_43_counts.map(lambda x: (x[1], x[0])).sortByKey(ascending = False)\n",
    "book_43_counts.take(20)"
   ]
  },
  {
   "cell_type": "markdown",
   "id": "13420b09",
   "metadata": {},
   "source": [
    "### Q9\n",
    "\n",
    "You must have noted that the most frequent words in `book_43_counts` include stop words such as `of`, `the`, `and`, etc.\n",
    "\n",
    "It would be inefficient to compare documents based on whether or not they contain stop words; those are common to all documents. As such, it's common to remove such stop words. The librarary `sklearn.feature_extraction` provides access to a collection of English stop words, which can be loaded using the following snippet:\n",
    "\n",
    "```\n",
    "from sklearn.feature_extraction import stop_words\n",
    "stop_words.ENGLISH_STOP_WORDS\n",
    "```\n",
    "\n",
    "* Explore ENGLISH_STOP_WORDS (it's a frozen set data structure, i.e., a set that you cannot modify) by printing any 10 words from it. \n",
    " * Hint: convert the frozen set to something you can subscript\n"
   ]
  },
  {
   "cell_type": "code",
   "execution_count": 13,
   "id": "0e0ad996",
   "metadata": {},
   "outputs": [
    {
     "name": "stdout",
     "output_type": "stream",
     "text": [
      "['much', 'found', 'me', 'fire', 'many', 'whereupon', 'his', 'without', 'here', 'others']\n"
     ]
    }
   ],
   "source": [
    "### Write your code here\n",
    "import random\n",
    "from sklearn.feature_extraction import _stop_words\n",
    "stop_words = _stop_words.ENGLISH_STOP_WORDS\n",
    "stop_words_subscript = list(stop_words)\n",
    "print(random.sample(stop_words_subscript, 10))"
   ]
  },
  {
   "cell_type": "markdown",
   "id": "625eb521",
   "metadata": {},
   "source": [
    "### Q10\n",
    "\n",
    "Filter out the words in `book_43_counts` by removing those that appear in the ENGLISH_STOP_WORDS.\n",
    "Save the results to a new variable called `book_43_counts_filtered`\n",
    "  * You can only use operarations or actions on RDDs to answer the question. \n",
    "  * Code that uses methods such as `some_rdd.X().Y().Z()...` is allowed\n",
    "  * Code that uses function such as `some_func(...)` is not allowed\n"
   ]
  },
  {
   "cell_type": "code",
   "execution_count": 14,
   "id": "5602b4ff",
   "metadata": {},
   "outputs": [
    {
     "data": {
      "text/plain": [
       "[('s', 156),\n",
       " ('utterson', 131),\n",
       " ('said', 130),\n",
       " ('mr', 128),\n",
       " ('hyde', 105),\n",
       " ('jekyll', 105),\n",
       " ('gutenberg', 98),\n",
       " ('project', 88),\n",
       " ('man', 85),\n",
       " ('lawyer', 72),\n",
       " ('poole', 61),\n",
       " ('like', 59),\n",
       " ('sir', 59),\n",
       " ('tm', 57),\n",
       " ('door', 52),\n",
       " ('work', 49),\n",
       " ('dr', 49),\n",
       " ('life', 49),\n",
       " ('good', 45),\n",
       " ('hand', 45)]"
      ]
     },
     "execution_count": 14,
     "metadata": {},
     "output_type": "execute_result"
    }
   ],
   "source": [
    "### Write your code here\n",
    "new_book_43_counts = book_43_counts.map(lambda x: (x[1], x[0]))\n",
    "new_book_43_counts_filtered = new_book_43_counts.filter(lambda x: x[0] not in stop_words_subscript)\n",
    "new_book_43_counts_filtered.take(20)"
   ]
  },
  {
   "cell_type": "markdown",
   "id": "3d0b3a80",
   "metadata": {},
   "source": [
    "### Q11\n",
    "\n",
    "* How many words are left in `book_43_counts_filtered` after removing the stop words"
   ]
  },
  {
   "cell_type": "code",
   "execution_count": 15,
   "id": "a5bdf083",
   "metadata": {},
   "outputs": [
    {
     "data": {
      "text/plain": [
       "4034"
      ]
     },
     "execution_count": 15,
     "metadata": {},
     "output_type": "execute_result"
    }
   ],
   "source": [
    "### Write your code here\n",
    "book_43_counts_filtered_count = new_book_43_counts_filtered.count()\n",
    "book_43_counts_filtered_count"
   ]
  },
  {
   "cell_type": "markdown",
   "id": "23ffd755",
   "metadata": {},
   "source": [
    "### Q12 \n",
    "\n",
    "* Create a function called *process_RDD* that combines the relevant steps you proposed above to make it convenient to apply them to the remaining four books. Your function should accept an input text file path and:\n",
    " * Reads in the file as a textRDD\n",
    " * Cleans and splits the line using `clean_split_line`\n",
    " * Filters out the stop words\n",
    " * Returns a word count RDD where each item is a tuple of words and its count.\n",
    " \n"
   ]
  },
  {
   "cell_type": "code",
   "execution_count": 16,
   "id": "eff5d5e8",
   "metadata": {},
   "outputs": [],
   "source": [
    "### Write your code here\n",
    "# def process_RDD(file):\n",
    "#     # reads file as a textRDD\n",
    "#     rdd = sc.textFile(file)\n",
    "# #     cleaned_split_rdd = rdd.flatMap(clean_split_line).map(lambda x: (x,1)).reduceByKey(lambda x,y: x+y)\n",
    "# #     cleaned_split_filtered_rdd = cleaned_split_rdd.filter(lambda x: x[0] not in stop_words_subscript)\n",
    "# #     return cleaned_split_filtered_rdd.count()\n",
    "#     cleaned_split_rdd = rdd.flatMap(clean_split_line).map(lambda x: (x,1)).reduceByKey(lambda x,y: x+y)\n",
    "#     cleaned_split_rdd_sorted = cleaned_split_rdd.map(lambda x: (x[1], x[0])).sortByKey(ascending = False)\n",
    "#     cleaned_split_rdd_sorted_back = cleaned_split_rdd_sorted.map(lambda x: (x[1], x[0]))\n",
    "#     filtered_rdd = cleaned_split_rdd_sorted_back.filter(lambda x: x[0] not in stop_words_subscript)\n",
    "#     return filtered_rdd"
   ]
  },
  {
   "cell_type": "code",
   "execution_count": null,
   "id": "ee3db6e5",
   "metadata": {},
   "outputs": [],
   "source": []
  },
  {
   "cell_type": "code",
   "execution_count": 17,
   "id": "be376dda",
   "metadata": {},
   "outputs": [],
   "source": [
    "def process_RDD(file):\n",
    "    rdd = sc.textFile(file)\n",
    "    cleaned_split_rdd = rdd.flatMap(clean_split_line_lower)\n",
    "    rdd_count = cleaned_split_rdd.map(lambda x: (x, 1)).reduceByKey(lambda x,y: x+y)\n",
    "    filtered_rdd = rdd_count.filter(lambda x: x[0] not in stop_words_subscript)\n",
    "    return filtered_rdd"
   ]
  },
  {
   "cell_type": "markdown",
   "id": "ba59c9c5",
   "metadata": {},
   "source": [
    "### Q13 \n",
    "\n",
    "Apply the function `process_RDD` to `book_84`, `book_398` and `book_3296` and save the results to variables `book_84_counts_filtered`, `book_398_counts_filtered` and `book_3296_counts_filtered` respectively. How many distinct words does each book contain after filtering the stop words.\n"
   ]
  },
  {
   "cell_type": "code",
   "execution_count": 18,
   "id": "08a24f66",
   "metadata": {},
   "outputs": [
    {
     "name": "stdout",
     "output_type": "stream",
     "text": [
      "7016\n",
      "2421\n",
      "7293\n"
     ]
    }
   ],
   "source": [
    "### Write your code here\n",
    "book_84_counts_filtered = process_RDD('data/84.txt')\n",
    "book_398_counts_filtered = process_RDD('data/398.txt')\n",
    "book_3296_counts_filtered = process_RDD('data/3296.txt')\n",
    "\n",
    "print(book_84_counts_filtered.count())\n",
    "print(book_398_counts_filtered.count())\n",
    "print(book_3296_counts_filtered.count())"
   ]
  },
  {
   "cell_type": "markdown",
   "id": "7fb9680f",
   "metadata": {},
   "source": [
    "### Q14 \n",
    "\n",
    "We discussed how to evaluate similarity between two texts using the number of words they share. We hypothesized that books that are similar should have more words in common than books that are dissimilar. If that holds, `book_398` and `book_3296`, which both pertain to religion, will have more words in common than, say, `book_84` and `book_398`. Test this hypothesis by writing code that compares and prints the number of words shared between `book_398` and `book_3296` and then between `book_84` and `book_398`.\n"
   ]
  },
  {
   "cell_type": "code",
   "execution_count": 19,
   "id": "ac6b73e0",
   "metadata": {},
   "outputs": [
    {
     "name": "stdout",
     "output_type": "stream",
     "text": [
      "1790\n",
      "1691\n"
     ]
    }
   ],
   "source": [
    "### Write your code here\n",
    "book_3296 = book_3296_counts_filtered.keys().collect()\n",
    "book_398 = book_398_counts_filtered.keys().collect()\n",
    "\n",
    "book_398_and_3296 = book_398_counts_filtered.filter(lambda x: x[0] in book_3296)\n",
    "print(book_398_and_3296.count())\n",
    "book_84_and_398 = book_84_counts_filtered.filter(lambda x: x[0] in book_398)\n",
    "print(book_84_and_398.count())"
   ]
  },
  {
   "cell_type": "markdown",
   "id": "cef9f326",
   "metadata": {},
   "source": [
    "### Q15\n",
    "\n",
    "* Based on the above, do you think counting the number of shared words is a good idea as a distance metric for evaluating topic similarity? Justify your answer?\n",
    "* Hint: What do *book_84* and *book_3296* have in common? "
   ]
  },
  {
   "cell_type": "code",
   "execution_count": 20,
   "id": "4e1cd473",
   "metadata": {},
   "outputs": [
    {
     "name": "stdout",
     "output_type": "stream",
     "text": [
      "3608\n"
     ]
    }
   ],
   "source": [
    "book_84_and_3296 = book_84_counts_filtered.filter(lambda x: x[0] in book_3296)\n",
    "print(book_84_and_3296.count())"
   ]
  },
  {
   "cell_type": "markdown",
   "id": "6587ae14",
   "metadata": {},
   "source": [
    "#### Write your answer here\n",
    "\n",
    "I don't think that counting the number of shared words is a good idea as a distance metric because book 398 and 3296 have less shared words than book 84 and 3296. Even though book 398 and 3296 both pertain to religion, the amount of shared words is less than 84 and 3296. "
   ]
  },
  {
   "cell_type": "markdown",
   "id": "a6f8f857",
   "metadata": {},
   "source": [
    "## Part II \n",
    "\n",
    "Another approach to estimating similarity consists of computing the Euclidean distance across a set of words. For example, suppose we have 3 documents A, B and C with the following counts for the words `evolution`, `DNA`, `biology` and `finance`. \n",
    "\n",
    "```python \n",
    "A = [4, 9, 6, 8]\n",
    "B = [3, 7, 7, 10]\n",
    "C = [15, 10, 1, 1]\n",
    "```\n",
    "Although all documents contain exactly the four words, the number of times these words appear in each book may be indicative of thier topic. For example, documents `A` and `B` are more likely to be business related since they contain the word `finance` more frequently (8 and 10 times respectively). Document `C` may be a technical document since it focuses on more technical words (`evolution` and `DNA`) and less on the words `finance`.\n",
    "\n",
    "The Euclidean distance, which can be computed using the `scikit` snippet below, is more indicative of topic-relatedness between the two documents.\n",
    "\n",
    "```python\n",
    "from scipy.spatial.distance import euclidean \n",
    "print(f\"The Euclidean distance between A and B is: {euclidean(A, B)}\")\n",
    "\n",
    "print(f\"The Euclidean distance between A and C is: {euclidean(A, C)}\")\n",
    "\n",
    "print(f\"The Euclidean distance between B and C is: {euclidean(B, C)}\")\n",
    "```\n"
   ]
  },
  {
   "cell_type": "code",
   "execution_count": 21,
   "id": "29d3f1e7",
   "metadata": {},
   "outputs": [
    {
     "name": "stdout",
     "output_type": "stream",
     "text": [
      "The Euclidean distance between A and B is: 3.1622776601683795\n",
      "The Euclidean distance between A and C is: 14.0\n",
      "The Euclidean distance between B and C is: 16.431676725154983\n"
     ]
    }
   ],
   "source": [
    "A = [4, 9, 6, 8]\n",
    "B = [3, 7, 7, 10]\n",
    "C = [15, 10, 1, 1]\n",
    "from scipy.spatial.distance import euclidean \n",
    "print(f\"The Euclidean distance between A and B is: {euclidean(A, B)}\")\n",
    "\n",
    "print(f\"The Euclidean distance between A and C is: {euclidean(A, C)}\")\n",
    "\n",
    "print(f\"The Euclidean distance between B and C is: {euclidean(B, C)}\")"
   ]
  },
  {
   "cell_type": "markdown",
   "id": "9abdc35e",
   "metadata": {},
   "source": [
    "### Q16\n",
    "\n",
    "To calculate the Euclidean distance, we must first identify the set of words by which we will compare the documents. Here, we will explore the words that are common to all 4 documents. We will store the data in a matrix called `counts_matrix`.\n",
    "\n",
    "Start by finding the words that are common to all four documents after stop-word filtering and store the counts for each word in a column of `counts_matrix`. \n",
    "\n",
    "To take the previous example, you can generate an emtpy matrix with 3 lines (documents `A`, `B` and `C`) and 4 columns (words `evolution`, `DNA`, `biology` and `finance`) using the following code.\n",
    "\n",
    "```python\n",
    "import numpy as np\n",
    "counts_matrix = np.zeros([3,4])\n",
    "```\n",
    "\n",
    "After generting the counts, you can fill the counts for a document, say `A`, using the following code:\n",
    "\n",
    "```python\n",
    "counts_matrix[0, :] = [4, 9, 6, 8] \n",
    "```\n",
    "* Other than for building `counts_matrix` you should exclusively use operations or actions on the `RDD` to answer this question. \n",
    "  * Code that uses methods such as `some_rdd.X().Y().Z()...` is allowed\n",
    "  * Code that uses functions such as `some_func(...)` is not allowed\n"
   ]
  },
  {
   "cell_type": "code",
   "execution_count": 22,
   "id": "c3cae946",
   "metadata": {},
   "outputs": [
    {
     "data": {
      "text/plain": [
       "array([[ 1.,  3.,  5., ...,  2.,  3.,  1.],\n",
       "       [ 1.,  9., 30., ...,  4.,  9.,  1.],\n",
       "       [ 1.,  2.,  1., ..., 16.,  5.,  1.],\n",
       "       [ 1.,  4., 15., ...,  3., 36., 16.]])"
      ]
     },
     "execution_count": 22,
     "metadata": {},
     "output_type": "execute_result"
    }
   ],
   "source": [
    "### Write your code here\n",
    "\"\"\"\n",
    "Books\n",
    "43.txt\tThe Strange Case of Dr. Jekyll and Mr. Hyde by Robert Louis Stevenson\n",
    "84.txt\tFrankenstein; Or, The Modern Prometheus by Mary Wollstonecraft Shelley\n",
    "398.txt\tThe First Book of Adam and Eve by Rutherford Hayes Platt\n",
    "3296.txt\tThe Confessions of St. Augustine by Bishop of Hippo Saint Augustine\n",
    "\"\"\"\n",
    "import numpy as np\n",
    "\n",
    "# find words that are common to all 4 documents after stop-word filtering\n",
    "book_43 = process_RDD('data/43.txt')\n",
    "book_84 = process_RDD('data/84.txt')\n",
    "book_398 = process_RDD('data/398.txt')\n",
    "book_3296 = process_RDD('data/3296.txt')\n",
    "\n",
    "# common_books_43_and_84 = book_43.union(book_84).reduceByKey(lambda x,y: x+y)\n",
    "# common_books_398_and_3296 = book_398.union(book_3296).reduceByKey(lambda x,y: x+y)\n",
    "# common_books = common_books_43_and_84.union(common_books_398_and_3296).reduceByKey(lambda x,y: x+y)\n",
    "# joined_common_books = common_books.intersection(common_books_43_and_84)\n",
    "common_books_43_and_84 = book_43.join(book_84)\n",
    "common_books_398_and_3296 = book_398.join(book_3296)\n",
    "joined_common_books = common_books_43_and_84.join(common_books_398_and_3296)\n",
    "joined_common_books_count = joined_common_books.count()\n",
    "joined_common_books = joined_common_books.keys().collect()\n",
    "# print(joined_common_books_count)\n",
    "# joined_common_books is common words that appear in all 4 docs\n",
    "\n",
    "# filter each book by joined_common_books\n",
    "count_43 = book_43.filter(lambda x: x[0] in joined_common_books).sortByKey(ascending = False)\n",
    "# remove the word and only show numbers\n",
    "count_43 = count_43.map(lambda x: (x[1], x[0])).keys().collect()\n",
    "\n",
    "count_84 = book_84.filter(lambda x: x[0] in joined_common_books).sortByKey(ascending = False)\n",
    "count_84 = count_84.map(lambda x: (x[1], x[0])).keys().collect()\n",
    "\n",
    "count_398 = book_398.filter(lambda x: x[0] in joined_common_books).sortByKey(ascending = False)\n",
    "count_398 = count_398.map(lambda x: (x[1], x[0])).keys().collect()\n",
    "\n",
    "count_3296 = book_3296.filter(lambda x: x[0] in joined_common_books).sortByKey(ascending = False)\n",
    "count_3296 = count_3296.map(lambda x: (x[1], x[0])).keys().collect()\n",
    "\n",
    "# get count for columns\n",
    "column_count = len(count_43)\n",
    "# print(len(count_43))\n",
    "\n",
    "# np.zeros([rows,columns])\n",
    "# create matrix\n",
    "counts_matrix = np.zeros([4, column_count])\n",
    "\n",
    "# example for A == counts_matrix[0, :] = [4, 9, 6, 8] \n",
    "counts_matrix[0, :] = count_43\n",
    "counts_matrix[1, :] = count_84\n",
    "counts_matrix[2, :] = count_398\n",
    "counts_matrix[3, :] = count_3296\n",
    "\n",
    "counts_matrix"
   ]
  },
  {
   "cell_type": "markdown",
   "id": "124bcdd8",
   "metadata": {},
   "source": [
    "### Q17\n",
    "\n",
    "Compute the Euclidean distance between `book_398` and `book_3296`, which both talk about religion and `book_84` and `book_398`. What do you conclude about using the Euclidean distance for evaluating topic relatedness across documents?\n",
    "<!--  -->"
   ]
  },
  {
   "cell_type": "code",
   "execution_count": 23,
   "id": "7b6a81dd",
   "metadata": {},
   "outputs": [
    {
     "name": "stdout",
     "output_type": "stream",
     "text": [
      "The Euclidean distance between book_398 and book_3296 is: 1156.6628722320086\n",
      "The Euclidean distance between book_84 and book_398 is: 751.6688100486809\n"
     ]
    }
   ],
   "source": [
    "### Write your code here\n",
    "from scipy.spatial.distance import euclidean\n",
    "print(f\"The Euclidean distance between book_398 and book_3296 is: {euclidean(counts_matrix[2], counts_matrix[3])}\")\n",
    "print(f\"The Euclidean distance between book_84 and book_398 is: {euclidean(counts_matrix[1], counts_matrix[2])}\")"
   ]
  },
  {
   "cell_type": "markdown",
   "id": "89981b46",
   "metadata": {},
   "source": [
    "#### Write your justification here\n",
    "\n",
    "Using Euclidean distance is not helpful for determining relatedness across documents because even though book_398 and book_3296 are related by religion their distance is still greater than book_84 and book_398. "
   ]
  },
  {
   "cell_type": "markdown",
   "id": "3f4e54e6",
   "metadata": {},
   "source": [
    "### Q18\n",
    "\n",
    "Bonus question (5 points): Can you think of a few things we could do to improve similarity between documents that pertain to the same topic. Justify your answer without giving code"
   ]
  },
  {
   "cell_type": "markdown",
   "id": "5c8c6de1",
   "metadata": {},
   "source": [
    "#### Write your answer here\n"
   ]
  },
  {
   "cell_type": "markdown",
   "id": "aedf1d74",
   "metadata": {},
   "source": [
    "## Part III\n",
    "\n",
    "In this part we will build some basic analytics for a dataset consisting of flight arrival and departure details for all commercial flights within the USA in one month. While this dataset can be managed using Pandas (<1M records), scaling to a yearly or longer timeframe will greatly benefit from using a distributed computing framework such as `Spark`.\n",
    "\n",
    "Here, you should use exclusively `SparkDatFrames. \n",
    "\n",
    "We want to analyze this dataset to better schedule trips.  For example:\n",
    " * Avoid airlines carriers that are most often associated with delays.\n",
    " * Avoid departure days where delays are most frequent.\n",
    " * Avoid airports which are associated with delays or long taxxying time.\n",
    "* etc.\n",
    " \n",
    "\n",
    "The information about the fields contained in the data file can be found [here](https://dataverse.harvard.edu/dataset.xhtml;jsessionid=0414e25969eccd0e88ae4d64fa0b?persistentId=doi%3A10.7910%2FDVN%2FHG7NV7&version=&q=&fileTypeGroupFacet=&fileTag=%221.+Documentation%22&fileSortField=date&fileSortOrder=desc)\n"
   ]
  },
  {
   "cell_type": "markdown",
   "id": "149805af",
   "metadata": {},
   "source": [
    "### Q19\n",
    "\n",
    "Load the file `flight_info.csv` into a spark `DataFrame` called `fight_info`.\n",
    "\n",
    "  * Note that you will need to create a sparkSession prior to loading the data\n",
    "  \n",
    "* How many entries does the file contain?\n",
    "\n"
   ]
  },
  {
   "cell_type": "code",
   "execution_count": 24,
   "id": "3ad5e6ad",
   "metadata": {},
   "outputs": [
    {
     "name": "stdout",
     "output_type": "stream",
     "text": [
      "450017\n"
     ]
    }
   ],
   "source": [
    "### Write your code here\n",
    "from pyspark.sql import SparkSession\n",
    "session = SparkSession(sc)\n",
    "\n",
    "flight_info = session.read.csv('data/flight_info.csv', header = True)\n",
    "print(flight_info.count())\n",
    "# flight_info.first()"
   ]
  },
  {
   "cell_type": "markdown",
   "id": "4fad81f1",
   "metadata": {},
   "source": [
    "### Q20\n",
    "\n",
    "Use `pySpark-SQL` or `pandas-like syntax to compute the airlines represented in this dataset\n",
    "The airline information is stored in a field called UniqueCarrier\n",
    "* UniqueCarrier: Represents the unique carrier code (ex.AA = American Airlines) \n"
   ]
  },
  {
   "cell_type": "code",
   "execution_count": 25,
   "id": "73fd7b0b",
   "metadata": {},
   "outputs": [
    {
     "name": "stdout",
     "output_type": "stream",
     "text": [
      "+-------------+\n",
      "|UniqueCarrier|\n",
      "+-------------+\n",
      "|           AA|\n",
      "|           AA|\n",
      "|           AA|\n",
      "|           AA|\n",
      "|           AA|\n",
      "|           AA|\n",
      "|           AA|\n",
      "|           AA|\n",
      "|           AA|\n",
      "|           AA|\n",
      "|           AA|\n",
      "|           AA|\n",
      "|           AA|\n",
      "|           AA|\n",
      "|           AA|\n",
      "|           AA|\n",
      "|           AA|\n",
      "|           AA|\n",
      "|           AA|\n",
      "|           AA|\n",
      "+-------------+\n",
      "only showing top 20 rows\n",
      "\n"
     ]
    }
   ],
   "source": [
    "### Write your code here\n",
    "carriers = flight_info.select('UniqueCarrier')\n",
    "carriers.show()"
   ]
  },
  {
   "cell_type": "markdown",
   "id": "1349b2f5",
   "metadata": {},
   "source": [
    "### Q21\n",
    "\n",
    "The data file contains various other fields, two of which are useful for answering the next question.\n",
    "\n",
    "* CRSDepTime: Represents the scheduled departure time\n",
    "* DepTime: Represents the actual departure time\n",
    "\n",
    "Compute the number of flights delayed per each carried code represented in this dataset. Sort the data by decreasing order of delays.\n",
    "  * A delay is observed when `DepTime` > `CRSDepTime`\n"
   ]
  },
  {
   "cell_type": "code",
   "execution_count": null,
   "id": "5cb7a171",
   "metadata": {},
   "outputs": [],
   "source": []
  },
  {
   "cell_type": "code",
   "execution_count": 26,
   "id": "c72cff25",
   "metadata": {},
   "outputs": [
    {
     "name": "stderr",
     "output_type": "stream",
     "text": [
      "\r",
      "[Stage 78:>                                                       (0 + 10) / 10]\r"
     ]
    },
    {
     "name": "stdout",
     "output_type": "stream",
     "text": [
      "+-------------+-----+\n",
      "|UniqueCarrier|count|\n",
      "+-------------+-----+\n",
      "|           WN|54557|\n",
      "|           DL|28962|\n",
      "|           AA|26291|\n",
      "|           UA|19594|\n",
      "|           OO|17924|\n",
      "|           EV|12340|\n",
      "|           B6|10406|\n",
      "|           AS| 4966|\n",
      "|           NK| 4435|\n",
      "|           F9| 3181|\n",
      "|           VX| 2871|\n",
      "|           HA| 2265|\n",
      "+-------------+-----+\n",
      "\n"
     ]
    },
    {
     "name": "stderr",
     "output_type": "stream",
     "text": [
      "\r",
      "                                                                                \r"
     ]
    }
   ],
   "source": [
    "### Write your code here\n",
    "# get cols\n",
    "flight_df = flight_info.select('UniqueCarrier', 'CRSDepTime', 'DepTime')\n",
    "# flight_df.show()\n",
    "# filter for delays\n",
    "flight_df = flight_df.filter(flight_info['DepTime'] > flight_info['CRSDepTime'])\n",
    "# flight_df.show()\n",
    "# group by code\n",
    "flight_df = flight_df.groupby('UniqueCarrier').count()\n",
    "# flight_df.show()\n",
    "# sort by count descending\n",
    "flight_df = flight_df.sort('count', ascending = False)\n",
    "flight_df.show()"
   ]
  },
  {
   "cell_type": "markdown",
   "id": "1645593b",
   "metadata": {},
   "source": [
    "### Q22\n",
    "\n",
    " Use the file `airlines.csv` to find the the complete name of the airline. Here, you are required to load the file as a pyspark DataFrame; call it `airlines_info`, and repeat the query above while including the `flights.csv `file in your query ( requires doing a `join`) so that you can also display the full name of the carrier (second column). \n",
    "\n",
    "The result will look (approximately) like:\n",
    "\n",
    "```\n",
    "[Row(UniqueCarrier='WN', first(_c1)='Southwest Airlines', count=SOME_count),\n",
    " Row(UniqueCarrier='DL', first(_c1)='Delta Air Lines', count=SOME_count),\n",
    " Row(UniqueCarrier='AA', first(_c1)='American Airlines', count=SOME_count),\n",
    " ...\n",
    " ]\n",
    "```\n",
    "\n",
    "The carrier code in the `airlines.csv` file is provided in the 4th (1-based) column\n",
    "\n",
    "Note that the file `airlines.csv` does not have column header. Hence, you need to print one line of your dataset to see what names Spark gave to the columns. Use the name provided by Spark in your query."
   ]
  },
  {
   "cell_type": "code",
   "execution_count": 27,
   "id": "30cea22b",
   "metadata": {},
   "outputs": [
    {
     "name": "stdout",
     "output_type": "stream",
     "text": [
      "DataFrame[_c0: string, _c1: string, _c2: string, _c3: string, _c4: string, _c5: string, _c6: string, _c7: string]\n",
      "+---+--------------------+---+----+---+-------+--------------+---+\n",
      "|_c0|                 _c1|_c2| _c3|_c4|    _c5|           _c6|_c7|\n",
      "+---+--------------------+---+----+---+-------+--------------+---+\n",
      "|  1|      Private flight| \\N|   -|N/A|   null|          null|  Y|\n",
      "|  2|         135 Airways| \\N|null|GNL|GENERAL| United States|  N|\n",
      "|  3|       1Time Airline| \\N|  1T|RNX|NEXTIME|  South Africa|  Y|\n",
      "|  4|2 Sqn No 1 Elemen...| \\N|null|WYT|   null|United Kingdom|  N|\n",
      "|  5|     213 Flight Unit| \\N|null|TFU|   null|        Russia|  N|\n",
      "+---+--------------------+---+----+---+-------+--------------+---+\n",
      "only showing top 5 rows\n",
      "\n"
     ]
    }
   ],
   "source": [
    "### Write your code here\n",
    "airlines_info = session.read.csv('data/airlines.csv')\n",
    "print(airlines_info)\n",
    "airlines_info.show(5)"
   ]
  },
  {
   "cell_type": "code",
   "execution_count": 28,
   "id": "9dc2435e",
   "metadata": {},
   "outputs": [
    {
     "name": "stdout",
     "output_type": "stream",
     "text": [
      "+-------------+--------------------+-----+\n",
      "|UniqueCarrier|                 _c1|count|\n",
      "+-------------+--------------------+-----+\n",
      "|           WN|  Southwest Airlines|54557|\n",
      "|           DL|     Delta Air Lines|28962|\n",
      "|           AA|   American Airlines|26291|\n",
      "|           UA|     United Airlines|19594|\n",
      "|           OO|             SkyWest|17924|\n",
      "|           EV|Atlantic Southeas...|12340|\n",
      "|           B6|     JetBlue Airways|10406|\n",
      "|           AS|     Alaska Airlines| 4966|\n",
      "|           NK|     Spirit Airlines| 4435|\n",
      "|           F9|   Frontier Airlines| 3181|\n",
      "|           VX|      Virgin America| 2871|\n",
      "|           HA|   Hawaiian Airlines| 2265|\n",
      "+-------------+--------------------+-----+\n",
      "\n"
     ]
    }
   ],
   "source": [
    "delayed_df = flight_info.join(airlines_info, flight_info['UniqueCarrier'] == airlines_info['_c3'])\n",
    "delayed_df = delayed_df.select('UniqueCarrier', '_c1', 'CRSDepTime', 'DepTime')\n",
    "delayed_df = delayed_df.filter(flight_info['DepTime'] > flight_info['CRSDepTime'])\n",
    "delayed_df = delayed_df.groupby('UniqueCarrier', '_c1').count()\n",
    "delayed_df = delayed_df.sort('count', ascending = False)\n",
    "\n",
    "delayed_df.show()\n"
   ]
  },
  {
   "cell_type": "markdown",
   "id": "4e0123a8",
   "metadata": {},
   "source": [
    "### Q23\n",
    "\n",
    "Compute the number of delays per company per day. The day is encoded as an integer in the column `DayOfWeek` in `fight_info`. You can display the day as an integer or map it into a string name of the week.\n",
    "Sort the data by airline code (UniqueCarrier) and by increasing values of DayOfWeek\n",
    "\n",
    "\n",
    "You results should look like the following\n",
    "\n"
   ]
  },
  {
   "cell_type": "code",
   "execution_count": 29,
   "id": "f9971baa",
   "metadata": {},
   "outputs": [
    {
     "name": "stdout",
     "output_type": "stream",
     "text": [
      "+-------------+---------+-----+\n",
      "|UniqueCarrier|DayOfWeek|count|\n",
      "+-------------+---------+-----+\n",
      "|           AA|        1| 5117|\n",
      "|           AA|        2| 3688|\n",
      "|           AA|        3| 2941|\n",
      "|           AA|        4| 3575|\n",
      "|           AA|        5| 3525|\n",
      "|           AA|        6| 2800|\n",
      "|           AA|        7| 4645|\n",
      "|           AS|        1|  872|\n",
      "|           AS|        2|  669|\n",
      "|           AS|        3|  618|\n",
      "|           AS|        4|  728|\n",
      "|           AS|        5|  630|\n",
      "|           AS|        6|  517|\n",
      "|           AS|        7|  932|\n",
      "|           B6|        1| 1892|\n",
      "|           B6|        2| 1787|\n",
      "|           B6|        3| 1253|\n",
      "|           B6|        4| 1254|\n",
      "|           B6|        5| 1309|\n",
      "|           B6|        6| 1027|\n",
      "+-------------+---------+-----+\n",
      "only showing top 20 rows\n",
      "\n"
     ]
    },
    {
     "name": "stderr",
     "output_type": "stream",
     "text": [
      "\r",
      "[Stage 87:=====>                                                   (1 + 9) / 10]\r",
      "\r",
      "                                                                                \r"
     ]
    }
   ],
   "source": [
    "### Write your code here\n",
    "daily_delay = flight_info.select('UniqueCarrier', 'CRSDepTime', 'DepTime', 'DayOfWeek')\n",
    "daily_delay = daily_delay.filter(flight_info['DepTime'] > flight_info['CRSDepTime'])\n",
    "daily_delay = daily_delay.groupby('UniqueCarrier', 'DayOfWeek').count()\n",
    "daily_delay = daily_delay.sort(['UniqueCarrier', 'DayOfWeek'])\n",
    "\n",
    "daily_delay.show()"
   ]
  },
  {
   "cell_type": "markdown",
   "id": "4c955760",
   "metadata": {},
   "source": [
    "### Q24  \n",
    "\n",
    "Counting the number of delayed flights per airline is misleading, as airlines with more flights are more likley to have delays than companies with substantially fiewer flights. \n",
    "\n",
    "Repeat the same query above but, for each carrier, normalize the counts of delays by the total number of flights for that carrier. \n"
   ]
  },
  {
   "cell_type": "code",
   "execution_count": 30,
   "id": "13ae9b5e",
   "metadata": {
    "scrolled": true
   },
   "outputs": [
    {
     "name": "stdout",
     "output_type": "stream",
     "text": [
      "+-------------+---------+-------------------+\n",
      "|UniqueCarrier|DayOfWeek|   NormalizedCounts|\n",
      "+-------------+---------+-------------------+\n",
      "|           AA|        1| 0.4206329634196465|\n",
      "|           AA|        2|0.31950099627479855|\n",
      "|           AA|        3|0.30285243538255585|\n",
      "|           AA|        4|0.36133009904992924|\n",
      "|           AA|        5|0.35448511665325827|\n",
      "|           AA|        6| 0.3415883859948762|\n",
      "|           AA|        7| 0.3977564651481418|\n",
      "|           AS|        1| 0.3553382233088835|\n",
      "|           AS|        2|0.29099608525445847|\n",
      "|           AS|        3| 0.3333333333333333|\n",
      "|           AS|        4| 0.3731419784725782|\n",
      "|           AS|        5|0.32142857142857145|\n",
      "|           AS|        6| 0.2875417130144605|\n",
      "|           AS|        7|0.38914405010438413|\n",
      "|           B6|        1|0.45811138014527847|\n",
      "|           B6|        2|0.44899497487437184|\n",
      "|           B6|        3|0.39601769911504425|\n",
      "|           B6|        4|0.38278388278388276|\n",
      "|           B6|        5|0.40055079559363527|\n",
      "|           B6|        6| 0.3583391486392184|\n",
      "+-------------+---------+-------------------+\n",
      "only showing top 20 rows\n",
      "\n",
      "CPU times: user 7.84 ms, sys: 15.7 ms, total: 23.6 ms\n",
      "Wall time: 1.05 s\n"
     ]
    }
   ],
   "source": [
    "%%time\n",
    "### Write your code here\n",
    "# get total of flights per airline\n",
    "flights = flight_info.select('UniqueCarrier', 'DayOfWeek')\n",
    "flights = flights.groupby('UniqueCarrier', 'DayOfWeek').count()\n",
    "flights = flights.sort('UniqueCarrier', 'DayOfWeek')\n",
    "# flights has count of flights per day of the week\n",
    "# flights.show()\n",
    "\n",
    "# get delays\n",
    "delays = flight_info.select('UniqueCarrier', 'DayOfWeek', 'CRSDepTime', 'DepTime')\n",
    "delays = delays.filter(flight_info['DepTime'] > flight_info['CRSDepTime'])\n",
    "delays = delays.groupby('UniqueCarrier', 'DayOfWeek').count()\n",
    "delays = delays.sort(['UniqueCarrier', 'DayOfWeek'])\n",
    "# delays.show()\n",
    "\n",
    "daily_delays = delays.join(flights, ['UniqueCarrier', 'DayOfWeek'])\n",
    "daily_delays = daily_delays.sort('UniqueCarrier', 'DayOfWeek')\n",
    "daily_delays = daily_delays.withColumn('NormalizedCounts', delays['count']/flights['count'])\n",
    "daily_delays = daily_delays.drop('count', 'count')\n",
    "daily_delays.show()\n"
   ]
  },
  {
   "cell_type": "markdown",
   "id": "5b73b3e4",
   "metadata": {},
   "source": [
    "### Q25 \n",
    "\n",
    "Time the query above. How long did it take to run. \n",
    "  * Make sure you run the code a few times and compute the average run time.\n",
    "  * The above should be easy to implement if you use the correct Jupyter Notebook `magic` function\n",
    "  "
   ]
  },
  {
   "cell_type": "code",
   "execution_count": 31,
   "id": "7df43da8",
   "metadata": {},
   "outputs": [
    {
     "name": "stdout",
     "output_type": "stream",
     "text": [
      "782.5ms\n"
     ]
    }
   ],
   "source": [
    "### Write your code here\n",
    "\"\"\"\n",
    "CPU times: user 17.6 ms, sys: 7.91 ms, total: 25.5 ms\n",
    "Wall time: 1.05 s\n",
    "CPU times: user 17.3 ms, sys: 4.41 ms, total: 21.7 ms\n",
    "Wall time: 834 ms\n",
    "CPU times: user 15 ms, sys: 10.5 ms, total: 25.5 ms\n",
    "Wall time: 795 ms\n",
    "CPU times: user 11.6 ms, sys: 8.11 ms, total: 19.7 ms\n",
    "Wall time: 791 ms\n",
    "CPU times: user 11.7 ms, sys: 8.18 ms, total: 19.9 ms\n",
    "Wall time: 721 ms\n",
    "CPU times: user 10.6 ms, sys: 14.6 ms, total: 25.2 ms\n",
    "Wall time: 738 ms\n",
    "CPU times: user 21.7 ms, sys: 0 ns, total: 21.7 ms\n",
    "Wall time: 733 ms\n",
    "CPU times: user 11.1 ms, sys: 10.9 ms, total: 21.9 ms\n",
    "Wall time: 719 ms\n",
    "CPU times: user 14.8 ms, sys: 3.94 ms, total: 18.7 ms\n",
    "Wall time: 724 ms\n",
    "CPU times: user 3.67 ms, sys: 17 ms, total: 20.7 ms\n",
    "Wall time: 720 ms\n",
    "\"\"\"\n",
    "\n",
    "time = [1050, 834, 795, 791, 721, 738, 733, 719, 724, 720]\n",
    "sum = 0\n",
    "for i in time:\n",
    "    sum = sum + i\n",
    "    \n",
    "av_time = sum / len(time)\n",
    "print(str(av_time) + 'ms')\n"
   ]
  },
  {
   "cell_type": "markdown",
   "id": "604e85e0",
   "metadata": {},
   "source": [
    "### Q26 \n",
    "\n",
    "Use one of the techniques covered in class to accelerate this query. Time your query to see by how much the run time was improved"
   ]
  },
  {
   "cell_type": "code",
   "execution_count": 32,
   "id": "2e951d64",
   "metadata": {},
   "outputs": [
    {
     "data": {
      "text/plain": [
       "DataFrame[UniqueCarrier: string, DayOfWeek: string, NormalizedCounts: double]"
      ]
     },
     "execution_count": 32,
     "metadata": {},
     "output_type": "execute_result"
    }
   ],
   "source": [
    "### Write your code here\n",
    "flights.cache()\n",
    "delays.cache()\n",
    "daily_delays.cache()"
   ]
  },
  {
   "cell_type": "code",
   "execution_count": 49,
   "id": "2ebda33f",
   "metadata": {},
   "outputs": [
    {
     "name": "stdout",
     "output_type": "stream",
     "text": [
      "+-------------+---------+-------------------+\n",
      "|UniqueCarrier|DayOfWeek|   NormalizedCounts|\n",
      "+-------------+---------+-------------------+\n",
      "|           AA|        1| 0.4206329634196465|\n",
      "|           AA|        2|0.31950099627479855|\n",
      "|           AA|        3|0.30285243538255585|\n",
      "|           AA|        4|0.36133009904992924|\n",
      "|           AA|        5|0.35448511665325827|\n",
      "|           AA|        6| 0.3415883859948762|\n",
      "|           AA|        7| 0.3977564651481418|\n",
      "|           AS|        1| 0.3553382233088835|\n",
      "|           AS|        2|0.29099608525445847|\n",
      "|           AS|        3| 0.3333333333333333|\n",
      "|           AS|        4| 0.3731419784725782|\n",
      "|           AS|        5|0.32142857142857145|\n",
      "|           AS|        6| 0.2875417130144605|\n",
      "|           AS|        7|0.38914405010438413|\n",
      "|           B6|        1|0.45811138014527847|\n",
      "|           B6|        2|0.44899497487437184|\n",
      "|           B6|        3|0.39601769911504425|\n",
      "|           B6|        4|0.38278388278388276|\n",
      "|           B6|        5|0.40055079559363527|\n",
      "|           B6|        6| 0.3583391486392184|\n",
      "+-------------+---------+-------------------+\n",
      "only showing top 20 rows\n",
      "\n",
      "CPU times: user 13.5 ms, sys: 5.56 ms, total: 19 ms\n",
      "Wall time: 126 ms\n"
     ]
    }
   ],
   "source": [
    "%%time\n",
    "### Write your code here\n",
    "# get total of flights per airline\n",
    "flights = flight_info.select('UniqueCarrier', 'DayOfWeek')\n",
    "flights = flights.groupby('UniqueCarrier', 'DayOfWeek').count()\n",
    "flights = flights.sort('UniqueCarrier', 'DayOfWeek')\n",
    "# flights has count of flights per day of the week\n",
    "# flights.show()\n",
    "\n",
    "# get delays\n",
    "delays = flight_info.select('UniqueCarrier', 'DayOfWeek', 'CRSDepTime', 'DepTime')\n",
    "delays = delays.filter(flight_info['DepTime'] > flight_info['CRSDepTime'])\n",
    "delays = delays.groupby('UniqueCarrier', 'DayOfWeek').count()\n",
    "delays = delays.sort(['UniqueCarrier', 'DayOfWeek'])\n",
    "# delays.show()\n",
    "\n",
    "daily_delays = delays.join(flights, ['UniqueCarrier', 'DayOfWeek'])\n",
    "daily_delays = daily_delays.sort('UniqueCarrier', 'DayOfWeek')\n",
    "daily_delays = daily_delays.withColumn('NormalizedCounts', delays['count']/flights['count'])\n",
    "daily_delays = daily_delays.drop('count', 'count')\n",
    "daily_delays.show()\n"
   ]
  },
  {
   "cell_type": "code",
   "execution_count": 37,
   "id": "90bdd636",
   "metadata": {},
   "outputs": [
    {
     "name": "stdout",
     "output_type": "stream",
     "text": [
      "138.5ms\n"
     ]
    }
   ],
   "source": [
    "\"\"\"\n",
    "CPU times: user 3.36 ms, sys: 16.9 ms, total: 20.3 ms\n",
    "Wall time: 149 ms\n",
    "CPU times: user 3.2 ms, sys: 16.3 ms, total: 19.5 ms\n",
    "Wall time: 134 ms\n",
    "CPU times: user 9.22 ms, sys: 9.77 ms, total: 19 ms\n",
    "Wall time: 138 ms\n",
    "CPU times: user 11.5 ms, sys: 7.75 ms, total: 19.3 ms\n",
    "Wall time: 138 ms\n",
    "CPU times: user 15.6 ms, sys: 3.08 ms, total: 18.6 ms\n",
    "Wall time: 152 ms\n",
    "CPU times: user 11.2 ms, sys: 11.1 ms, total: 22.3 ms\n",
    "Wall time: 152 ms\n",
    "CPU times: user 4.36 ms, sys: 14 ms, total: 18.3 ms\n",
    "Wall time: 127 ms\n",
    "CPU times: user 9.44 ms, sys: 9.98 ms, total: 19.4 ms\n",
    "Wall time: 129 ms\n",
    "CPU times: user 14.2 ms, sys: 5.74 ms, total: 20 ms\n",
    "Wall time: 131 ms\n",
    "CPU times: user 20.3 ms, sys: 0 ns, total: 20.3 ms\n",
    "Wall time: 135 ms\n",
    "\"\"\"\n",
    "\n",
    "new_time = [149, 134, 138, 138, 152, 152, 127, 129, 131, 135]\n",
    "sum = 0\n",
    "for i in new_time:\n",
    "    sum = sum + i\n",
    "    \n",
    "av_time = sum / len(new_time)\n",
    "print(str(av_time) + 'ms')"
   ]
  },
  {
   "cell_type": "markdown",
   "id": "8a87a433",
   "metadata": {},
   "source": [
    "### Q27 \n",
    "\n",
    "Is the departure delay (i.e., DepTime - CRSDepTime) predictive of the arrival delay (ArrTime > CRSArrTime)?\n",
    "Use an approach of your choice (e.g. `skelearn` which we covered in class or `Spark`) to model as a linear regression the arrival delay as a function of the departure delay. \n",
    "\n"
   ]
  },
  {
   "cell_type": "code",
   "execution_count": 68,
   "id": "f8dbd52d",
   "metadata": {},
   "outputs": [
    {
     "name": "stdout",
     "output_type": "stream",
     "text": [
      "+--------------+\n",
      "|DepartureDelay|\n",
      "+--------------+\n",
      "|          -3.0|\n",
      "|          -5.0|\n",
      "|          -8.0|\n",
      "|          37.0|\n",
      "|          13.0|\n",
      "|          17.0|\n",
      "|          -3.0|\n",
      "|           0.0|\n",
      "|          -3.0|\n",
      "|          -1.0|\n",
      "|          -6.0|\n",
      "|          -5.0|\n",
      "|          -8.0|\n",
      "|          -5.0|\n",
      "|          -4.0|\n",
      "|           0.0|\n",
      "|         -49.0|\n",
      "|           7.0|\n",
      "|           9.0|\n",
      "|          -1.0|\n",
      "+--------------+\n",
      "only showing top 20 rows\n",
      "\n",
      "None\n",
      "+--------------+------------+\n",
      "|DepartureDelay|ArrivalDelay|\n",
      "+--------------+------------+\n",
      "|          -3.0|       -14.0|\n",
      "|          -3.0|       -35.0|\n",
      "|          -3.0|       -30.0|\n",
      "|          -3.0|        73.0|\n",
      "|          -3.0|         2.0|\n",
      "|          -3.0|        65.0|\n",
      "|          -3.0|        51.0|\n",
      "|          -3.0|        48.0|\n",
      "|          -3.0|        50.0|\n",
      "|          -3.0|        46.0|\n",
      "|          -3.0|       -14.0|\n",
      "|          -3.0|       -33.0|\n",
      "|          -3.0|       -28.0|\n",
      "|          -3.0|       -20.0|\n",
      "|          -3.0|       -20.0|\n",
      "|          -3.0|         6.0|\n",
      "|          -3.0|        -3.0|\n",
      "|          -3.0|         3.0|\n",
      "|          -3.0|        -6.0|\n",
      "|          -3.0|         5.0|\n",
      "+--------------+------------+\n",
      "only showing top 20 rows\n",
      "\n"
     ]
    }
   ],
   "source": [
    "### Write your code here\n",
    "# find departure delay\n",
    "departure_delay = flight_info.select('DepTime', 'CRSDepTime')\n",
    "departure_delay = departure_delay.withColumn('DepartureDelay', flight_info['DepTime'] - flight_info['CRSDepTime'])\n",
    "departure_delay = departure_delay.drop('DepTime', 'CRSDepTime')\n",
    "# departure_delay.show()\n",
    "# departure_delay = departure_delay.collect()\n",
    "print(departure_delay.show())\n",
    "\n",
    "\n",
    "# find arrival delay\n",
    "arrival_delay = flight_info.select('ArrTime', 'CRSArrTime')\n",
    "arrival_delay = arrival_delay.withColumn('ArrivalDelay', flight_info['ArrTime'] - flight_info['CRSArrTime'])\n",
    "arrival_delay = arrival_delay.drop('ArrTime', 'CRSArrTime')\n",
    "# arrival_delay.show()\n",
    "\n",
    "delays = departure_delay.join(arrival_delay)\n",
    "# delays = arrival_delay.join(departure_delay)\n",
    "delays.show()\n",
    "# import sklearn.linear_model as skl_lm\n",
    "# from sklearn.metrics import mean_squared_error, r2_score\n",
    "\n"
   ]
  }
 ],
 "metadata": {
  "kernelspec": {
   "display_name": "Python 3 (ipykernel)",
   "language": "python",
   "name": "python3"
  },
  "language_info": {
   "codemirror_mode": {
    "name": "ipython",
    "version": 3
   },
   "file_extension": ".py",
   "mimetype": "text/x-python",
   "name": "python",
   "nbconvert_exporter": "python",
   "pygments_lexer": "ipython3",
   "version": "3.9.7"
  }
 },
 "nbformat": 4,
 "nbformat_minor": 5
}
